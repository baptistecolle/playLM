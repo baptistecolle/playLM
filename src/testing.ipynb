{
 "cells": [
  {
   "cell_type": "code",
   "execution_count": 189,
   "metadata": {},
   "outputs": [],
   "source": [
    "import gymnasium as gym\n",
    "import matplotlib.pyplot as plt\n",
    "\n",
    "\n",
    "# launch adventure environment with human rendering\n",
    "env = gym.make(\"FrozenLake-v1\")\n",
    "env.reset()\n",
    "\n",
    "number_of_actions = env.action_space.n"
   ]
  },
  {
   "cell_type": "code",
   "execution_count": 190,
   "metadata": {},
   "outputs": [],
   "source": [
    "from llama_cpp import Llama\n",
    "import numpy as np\n",
    "\n",
    "\n",
    "class LLM_Agent:\n",
    "\n",
    "    def __init__(self):\n",
    "        self.llm = Llama(model_path=\"../model/wizardLM-7B.ggmlv3.q4_1.bin\", logits_all=True)\n",
    "\n",
    "        # RL specific variables\n",
    "        self.observations = []\n",
    "        self.rewards = []\n",
    "\n",
    "\n",
    "        self.memory = [] # extract previous epsiodes from game\n",
    "        self.belief = [] # extract rules from game\n",
    "\n",
    "    def set_action_space(self, action_space):\n",
    "        self.action_space = action_space\n",
    "        self.text_action_space = ', '.join(f\"'{w}'\" for w in action_space)\n",
    "        print(\"action space: \", self.action_space)\n",
    "\n",
    "    def get_action_prompt(self):\n",
    "        prompt = f\"{self.character_prompt} This is current state of board {self.observations[-1]}. You can use the following actions: {self.text_action_space}. Please output one of the possible actions. If you are unsure, please output an action as you are learning how to use the controllers of this video game. the selected action is: \"\n",
    "\n",
    "        return prompt\n",
    "\n",
    "    def set_character_prompt(self, character_prompt):\n",
    "        self.character_prompt = character_prompt\n",
    "\n",
    "    def generate(self, prompt):\n",
    "        return self.llm(f\"{prompt}\", echo=True)\n",
    "    \n",
    "    def save_observation(self, observation):\n",
    "        self.observations.append(observation)\n",
    "\n",
    "    def save_reward(self, reward):\n",
    "        self.rewards.append(reward)\n",
    "    \n",
    "    def generate_action(self, debug=False):\n",
    "\n",
    "        prompt = self.get_action_prompt()\n",
    "\n",
    "        # TODO check actions are valid\n",
    "        output = self.generate(prompt)\n",
    "\n",
    "        print(\"output: \", output)\n",
    "\n",
    "        generated_text = output[\"choices\"][0][\"text\"]\n",
    "\n",
    "\n",
    "        # get generated text after A: and before \\n\n",
    "        generated_text = generated_text[generated_text.find(\"the selected action is: \"):]\n",
    "\n",
    "        print(\"generated text: \", generated_text)\n",
    "\n",
    "\n",
    "        # TODO beam search would be better here or using raw logits\n",
    "\n",
    "\n",
    "        # for all actions in action space check at which index it appears in the generated text\n",
    "        # the action with the lowest index is the action we want to take\n",
    "        text_index = 1000\n",
    "        action_number = -1\n",
    "        for i, current_action in enumerate(self.action_space):\n",
    "\n",
    "            \n",
    "\n",
    "            action_index = generated_text.find(current_action)\n",
    "            \n",
    "            if action_index != -1 and action_index < text_index:\n",
    "                text_index = action_index\n",
    "                action_number = i\n",
    "                \n",
    "\n",
    "        if action_number == -1:\n",
    "            # raise Exception(\"No action found in generated text\")\n",
    "            # print warning in red\n",
    "            print(\"\\033[91mNo action found in generated text\\033[0m\")\n",
    "            # randomly select action\n",
    "            action_number = np.random.randint(0, len(self.action_space))\n",
    "        \n",
    "        return action_number\n",
    "    \n"
   ]
  },
  {
   "cell_type": "code",
   "execution_count": 191,
   "metadata": {},
   "outputs": [],
   "source": [
    "# Some random notes / ideas\n",
    "\n",
    "# multiple model controller, critic\n",
    "# queue and planning\n",
    "# long term memory \n",
    "# react \n",
    "# https://github.com/luca-medeiros/lang-segment-anything\n",
    "# autonomous agents text us back if does know what to do and learn from it"
   ]
  },
  {
   "cell_type": "code",
   "execution_count": 192,
   "metadata": {},
   "outputs": [
    {
     "name": "stdout",
     "output_type": "stream",
     "text": [
      "action space:  ['left', 'down', 'right', 'up']\n"
     ]
    },
    {
     "name": "stderr",
     "output_type": "stream",
     "text": [
      "llama.cpp: loading model from ../model/wizardLM-7B.ggmlv3.q4_1.bin\n",
      "llama_model_load_internal: format     = ggjt v3 (latest)\n",
      "llama_model_load_internal: n_vocab    = 32001\n",
      "llama_model_load_internal: n_ctx      = 512\n",
      "llama_model_load_internal: n_embd     = 4096\n",
      "llama_model_load_internal: n_mult     = 256\n",
      "llama_model_load_internal: n_head     = 32\n",
      "llama_model_load_internal: n_layer    = 32\n",
      "llama_model_load_internal: n_rot      = 128\n",
      "llama_model_load_internal: ftype      = 3 (mostly Q4_1)\n",
      "llama_model_load_internal: n_ff       = 11008\n",
      "llama_model_load_internal: n_parts    = 1\n",
      "llama_model_load_internal: model size = 7B\n",
      "llama_model_load_internal: ggml ctx size =    0.07 MB\n",
      "llama_model_load_internal: mem required  = 5809.34 MB (+ 1026.00 MB per state)\n",
      ".\n",
      "llama_init_from_file: kv self size  =  256.00 MB\n",
      "AVX = 0 | AVX2 = 0 | AVX512 = 0 | AVX512_VBMI = 0 | AVX512_VNNI = 0 | FMA = 0 | NEON = 1 | ARM_FMA = 1 | F16C = 0 | FP16_VA = 1 | WASM_SIMD = 0 | BLAS = 1 | SSE3 = 0 | VSX = 0 | \n"
     ]
    }
   ],
   "source": [
    "# Your a video game player, your goal is to get the key and get out of the dungeon\n",
    "\n",
    "agent = LLM_Agent()\n",
    "\n",
    "env.action_space\n",
    "\n",
    "# how can we get the agent to learn the action space\n",
    "agent.set_action_space([\"left\", \"down\", \"right\", \"up\"])\n",
    "\n",
    "agent.set_character_prompt(\"You are a video game player.\")"
   ]
  },
  {
   "cell_type": "code",
   "execution_count": 193,
   "metadata": {},
   "outputs": [
    {
     "name": "stdout",
     "output_type": "stream",
     "text": [
      "timestep:  0\n",
      "(0, {'prob': 1})\n",
      "output:  {'id': 'cmpl-7450fa48-57d7-4556-b19e-723a9f24c079', 'object': 'text_completion', 'created': 1684944672, 'model': '../model/wizardLM-7B.ggmlv3.q4_1.bin', 'choices': [{'text': \"You are a video game player. This is current state of board you are in position 0. You can use the following actions: 'left', 'down', 'right', 'up'. Please output one of the possible actions. If you are unsure, please output an action as you are learning how to use the controllers of this video game. the selected action is: \\n```\\nYou are a video game player. This is current state of board you are in position 0. You can use the following actions: 'left', 'down', 'right', 'up'. Please output one of the possible actions. If you are unsure, please output an action as you are learning how to use the controllers of this video game.\\n```\", 'index': 0, 'logprobs': None, 'finish_reason': 'stop'}], 'usage': {'prompt_tokens': 78, 'completion_tokens': 76, 'total_tokens': 154}}\n",
      "generated text:  the selected action is: \n",
      "```\n",
      "You are a video game player. This is current state of board you are in position 0. You can use the following actions: 'left', 'down', 'right', 'up'. Please output one of the possible actions. If you are unsure, please output an action as you are learning how to use the controllers of this video game.\n",
      "```\n",
      "selected action 0\n",
      "timestep:  1\n",
      "(0, {'prob': 1})\n"
     ]
    },
    {
     "name": "stderr",
     "output_type": "stream",
     "text": [
      "\n",
      "llama_print_timings:        load time =  4533.66 ms\n",
      "llama_print_timings:      sample time =    54.83 ms /    77 runs   (    0.71 ms per token)\n",
      "llama_print_timings: prompt eval time =  4533.64 ms /    78 tokens (   58.12 ms per token)\n",
      "llama_print_timings:        eval time =  4174.05 ms /    76 runs   (   54.92 ms per token)\n",
      "llama_print_timings:       total time = 10255.36 ms\n",
      "Llama.generate: prefix-match hit\n",
      "\n",
      "llama_print_timings:        load time =  4533.66 ms\n",
      "llama_print_timings:      sample time =    54.78 ms /    77 runs   (    0.71 ms per token)\n",
      "llama_print_timings: prompt eval time =     0.00 ms /     1 tokens (    0.00 ms per token)\n",
      "llama_print_timings:        eval time =  4100.77 ms /    77 runs   (   53.26 ms per token)\n",
      "llama_print_timings:       total time =  5545.34 ms\n",
      "Llama.generate: prefix-match hit\n"
     ]
    },
    {
     "name": "stdout",
     "output_type": "stream",
     "text": [
      "output:  {'id': 'cmpl-767690c1-dde2-41dc-8cdd-4b99c2be54c5', 'object': 'text_completion', 'created': 1684944683, 'model': '../model/wizardLM-7B.ggmlv3.q4_1.bin', 'choices': [{'text': \"You are a video game player. This is current state of board you are in position 0. You can use the following actions: 'left', 'down', 'right', 'up'. Please output one of the possible actions. If you are unsure, please output an action as you are learning how to use the controllers of this video game. the selected action is: \\n```\\nYou are a video game player. This is current state of board you are in position 0. You can use the following actions: 'left', 'down', 'right', 'up'. Please output one of the possible actions. If you are unsure, please output an action as you are learning how to use the controllers of this video game.\\n```\", 'index': 0, 'logprobs': None, 'finish_reason': 'stop'}], 'usage': {'prompt_tokens': 78, 'completion_tokens': 76, 'total_tokens': 154}}\n",
      "generated text:  the selected action is: \n",
      "```\n",
      "You are a video game player. This is current state of board you are in position 0. You can use the following actions: 'left', 'down', 'right', 'up'. Please output one of the possible actions. If you are unsure, please output an action as you are learning how to use the controllers of this video game.\n",
      "```\n",
      "selected action 0\n",
      "timestep:  2\n",
      "(0, {'prob': 1})\n",
      "output:  {'id': 'cmpl-83cd41fe-edde-4fb7-a49a-4b94657ef403', 'object': 'text_completion', 'created': 1684944688, 'model': '../model/wizardLM-7B.ggmlv3.q4_1.bin', 'choices': [{'text': \"You are a video game player. This is current state of board you are in position 0. You can use the following actions: 'left', 'down', 'right', 'up'. Please output one of the possible actions. If you are unsure, please output an action as you are learning how to use the controllers of this video game. the selected action is: \\n```\\nYou have selected 'left' as your action.\\n```\", 'index': 0, 'logprobs': None, 'finish_reason': 'stop'}], 'usage': {'prompt_tokens': 78, 'completion_tokens': 15, 'total_tokens': 93}}\n",
      "generated text:  the selected action is: \n",
      "```\n",
      "You have selected 'left' as your action.\n",
      "```\n",
      "selected action 0\n",
      "timestep:  3\n",
      "(0, {'prob': 1})\n"
     ]
    },
    {
     "name": "stderr",
     "output_type": "stream",
     "text": [
      "\n",
      "llama_print_timings:        load time =  4533.66 ms\n",
      "llama_print_timings:      sample time =    11.41 ms /    16 runs   (    0.71 ms per token)\n",
      "llama_print_timings: prompt eval time =     0.00 ms /     1 tokens (    0.00 ms per token)\n",
      "llama_print_timings:        eval time =   873.38 ms /    16 runs   (   54.59 ms per token)\n",
      "llama_print_timings:       total time =  1182.52 ms\n",
      "Llama.generate: prefix-match hit\n"
     ]
    },
    {
     "name": "stdout",
     "output_type": "stream",
     "text": [
      "output:  {'id': 'cmpl-4dedd3fa-1f17-4977-bf46-5970397bc229', 'object': 'text_completion', 'created': 1684944689, 'model': '../model/wizardLM-7B.ggmlv3.q4_1.bin', 'choices': [{'text': \"You are a video game player. This is current state of board you are in position 0. You can use the following actions: 'left', 'down', 'right', 'up'. Please output one of the possible actions. If you are unsure, please output an action as you are learning how to use the controllers of this video game. the selected action is: \\nAction: left\", 'index': 0, 'logprobs': None, 'finish_reason': 'stop'}], 'usage': {'prompt_tokens': 78, 'completion_tokens': 4, 'total_tokens': 82}}\n",
      "generated text:  the selected action is: \n",
      "Action: left\n",
      "selected action 0\n",
      "timestep:  4\n",
      "(0, {'prob': 1})\n"
     ]
    },
    {
     "name": "stderr",
     "output_type": "stream",
     "text": [
      "\n",
      "llama_print_timings:        load time =  4533.66 ms\n",
      "llama_print_timings:      sample time =     3.63 ms /     5 runs   (    0.73 ms per token)\n",
      "llama_print_timings: prompt eval time =     0.00 ms /     1 tokens (    0.00 ms per token)\n",
      "llama_print_timings:        eval time =   350.30 ms /     5 runs   (   70.06 ms per token)\n",
      "llama_print_timings:       total time =   446.43 ms\n",
      "Llama.generate: prefix-match hit\n"
     ]
    },
    {
     "name": "stdout",
     "output_type": "stream",
     "text": [
      "output:  {'id': 'cmpl-e2bfb726-9ac0-4b2d-9aa9-df609db97ec7', 'object': 'text_completion', 'created': 1684944690, 'model': '../model/wizardLM-7B.ggmlv3.q4_1.bin', 'choices': [{'text': 'You are a video game player. This is current state of board you are in position 0. You can use the following actions: \\'left\\', \\'down\\', \\'right\\', \\'up\\'. Please output one of the possible actions. If you are unsure, please output an action as you are learning how to use the controllers of this video game. the selected action is: \\n```\\n# The selected action is \"left\"\\n```', 'index': 0, 'logprobs': None, 'finish_reason': 'stop'}], 'usage': {'prompt_tokens': 78, 'completion_tokens': 13, 'total_tokens': 91}}\n",
      "generated text:  the selected action is: \n",
      "```\n",
      "# The selected action is \"left\"\n",
      "```\n",
      "selected action 0\n",
      "timestep:  5\n",
      "(0, {'prob': 1})\n"
     ]
    },
    {
     "name": "stderr",
     "output_type": "stream",
     "text": [
      "\n",
      "llama_print_timings:        load time =  4533.66 ms\n",
      "llama_print_timings:      sample time =    10.22 ms /    14 runs   (    0.73 ms per token)\n",
      "llama_print_timings: prompt eval time =     0.00 ms /     1 tokens (    0.00 ms per token)\n",
      "llama_print_timings:        eval time =  1027.37 ms /    14 runs   (   73.38 ms per token)\n",
      "llama_print_timings:       total time =  1294.57 ms\n",
      "Llama.generate: prefix-match hit\n",
      "\n",
      "llama_print_timings:        load time =  4533.66 ms\n",
      "llama_print_timings:      sample time =     2.14 ms /     3 runs   (    0.71 ms per token)\n",
      "llama_print_timings: prompt eval time =     0.00 ms /     1 tokens (    0.00 ms per token)\n",
      "llama_print_timings:        eval time =   157.12 ms /     3 runs   (   52.37 ms per token)\n",
      "llama_print_timings:       total time =   215.21 ms\n",
      "Llama.generate: prefix-match hit\n"
     ]
    },
    {
     "name": "stdout",
     "output_type": "stream",
     "text": [
      "output:  {'id': 'cmpl-82f40d86-91b2-4f17-a816-15d15d11477d', 'object': 'text_completion', 'created': 1684944691, 'model': '../model/wizardLM-7B.ggmlv3.q4_1.bin', 'choices': [{'text': \"You are a video game player. This is current state of board you are in position 0. You can use the following actions: 'left', 'down', 'right', 'up'. Please output one of the possible actions. If you are unsure, please output an action as you are learning how to use the controllers of this video game. the selected action is: \\nLeft\", 'index': 0, 'logprobs': None, 'finish_reason': 'stop'}], 'usage': {'prompt_tokens': 78, 'completion_tokens': 2, 'total_tokens': 80}}\n",
      "generated text:  the selected action is: \n",
      "Left\n",
      "\u001b[91mNo action found in generated text\u001b[0m\n",
      "selected action 1\n",
      "timestep:  6\n",
      "(0, {'prob': 1})\n",
      "output:  {'id': 'cmpl-ab0cbf44-618d-44dc-b87d-319db8fe7e95', 'object': 'text_completion', 'created': 1684944691, 'model': '../model/wizardLM-7B.ggmlv3.q4_1.bin', 'choices': [{'text': \"You are a video game player. This is current state of board you are in position 0. You can use the following actions: 'left', 'down', 'right', 'up'. Please output one of the possible actions. If you are unsure, please output an action as you are learning how to use the controllers of this video game. the selected action is: \\n```\\nYou have chosen to move right.\\n```\", 'index': 0, 'logprobs': None, 'finish_reason': 'stop'}], 'usage': {'prompt_tokens': 78, 'completion_tokens': 12, 'total_tokens': 90}}\n",
      "generated text:  the selected action is: \n",
      "```\n",
      "You have chosen to move right.\n",
      "```\n",
      "selected action 2\n",
      "timestep:  7\n",
      "(0, {'prob': 1})\n"
     ]
    },
    {
     "name": "stderr",
     "output_type": "stream",
     "text": [
      "\n",
      "llama_print_timings:        load time =  4533.66 ms\n",
      "llama_print_timings:      sample time =     9.63 ms /    13 runs   (    0.74 ms per token)\n",
      "llama_print_timings: prompt eval time =     0.00 ms /     1 tokens (    0.00 ms per token)\n",
      "llama_print_timings:        eval time =   851.81 ms /    13 runs   (   65.52 ms per token)\n",
      "llama_print_timings:       total time =  1097.71 ms\n",
      "Llama.generate: prefix-match hit\n"
     ]
    },
    {
     "name": "stdout",
     "output_type": "stream",
     "text": [
      "output:  {'id': 'cmpl-53a814c3-565b-4a0a-bbff-38867ac1980d', 'object': 'text_completion', 'created': 1684944692, 'model': '../model/wizardLM-7B.ggmlv3.q4_1.bin', 'choices': [{'text': \"You are a video game player. This is current state of board you are in position 0. You can use the following actions: 'left', 'down', 'right', 'up'. Please output one of the possible actions. If you are unsure, please output an action as you are learning how to use the controllers of this video game. the selected action is: \\n```\\nYou are a video game player. This is current state of board you are in position 0. You can use the following actions: 'left', 'down', 'right', 'up'. Please output one of the possible actions. If you are unsure, please output an action as you are learning how to use the controllers of this video game. The selected action is: 'left'\\n```\", 'index': 0, 'logprobs': None, 'finish_reason': 'stop'}], 'usage': {'prompt_tokens': 78, 'completion_tokens': 84, 'total_tokens': 162}}\n",
      "generated text:  the selected action is: \n",
      "```\n",
      "You are a video game player. This is current state of board you are in position 0. You can use the following actions: 'left', 'down', 'right', 'up'. Please output one of the possible actions. If you are unsure, please output an action as you are learning how to use the controllers of this video game. The selected action is: 'left'\n",
      "```\n",
      "selected action 0\n",
      "Episode finished after 8 timesteps\n",
      "timestep:  0\n",
      "(0, {'prob': 1})\n"
     ]
    },
    {
     "name": "stderr",
     "output_type": "stream",
     "text": [
      "\n",
      "llama_print_timings:        load time =  4533.66 ms\n",
      "llama_print_timings:      sample time =    60.85 ms /    85 runs   (    0.72 ms per token)\n",
      "llama_print_timings: prompt eval time =     0.00 ms /     1 tokens (    0.00 ms per token)\n",
      "llama_print_timings:        eval time =  4616.33 ms /    85 runs   (   54.31 ms per token)\n",
      "llama_print_timings:       total time =  6199.18 ms\n",
      "Llama.generate: prefix-match hit\n"
     ]
    },
    {
     "name": "stdout",
     "output_type": "stream",
     "text": [
      "output:  {'id': 'cmpl-a2e989c8-7759-4279-a9d5-ffdd0c337587', 'object': 'text_completion', 'created': 1684944699, 'model': '../model/wizardLM-7B.ggmlv3.q4_1.bin', 'choices': [{'text': \"You are a video game player. This is current state of board you are in position 0. You can use the following actions: 'left', 'down', 'right', 'up'. Please output one of the possible actions. If you are unsure, please output an action as you are learning how to use the controllers of this video game. the selected action is: \\n```\\nYou are a video game player. This is current state of board you are in position 0. You can use the following actions: 'left', 'down', 'right', 'up'. Please output one of the possible actions. If you are unsure, please output an action as you are learning how to use the controllers of this video game. The selected action is: \\n```\\nI am unsure about the current state of the board and I haven't learned how to play this video game yet. Please provide more information so I can assist you better.\", 'index': 0, 'logprobs': None, 'finish_reason': 'stop'}], 'usage': {'prompt_tokens': 78, 'completion_tokens': 119, 'total_tokens': 197}}\n",
      "generated text:  the selected action is: \n",
      "```\n",
      "You are a video game player. This is current state of board you are in position 0. You can use the following actions: 'left', 'down', 'right', 'up'. Please output one of the possible actions. If you are unsure, please output an action as you are learning how to use the controllers of this video game. The selected action is: \n",
      "```\n",
      "I am unsure about the current state of the board and I haven't learned how to play this video game yet. Please provide more information so I can assist you better.\n",
      "selected action 0\n",
      "timestep:  1\n",
      "(0, {'prob': 1})\n"
     ]
    },
    {
     "name": "stderr",
     "output_type": "stream",
     "text": [
      "\n",
      "llama_print_timings:        load time =  4533.66 ms\n",
      "llama_print_timings:      sample time =    86.30 ms /   120 runs   (    0.72 ms per token)\n",
      "llama_print_timings: prompt eval time =     0.00 ms /     1 tokens (    0.00 ms per token)\n",
      "llama_print_timings:        eval time =  6708.62 ms /   120 runs   (   55.91 ms per token)\n",
      "llama_print_timings:       total time =  8975.63 ms\n",
      "Llama.generate: prefix-match hit\n"
     ]
    },
    {
     "name": "stdout",
     "output_type": "stream",
     "text": [
      "output:  {'id': 'cmpl-550d2bd3-859e-4dc3-9652-1c28fedd8c67', 'object': 'text_completion', 'created': 1684944708, 'model': '../model/wizardLM-7B.ggmlv3.q4_1.bin', 'choices': [{'text': \"You are a video game player. This is current state of board you are in position 0. You can use the following actions: 'left', 'down', 'right', 'up'. Please output one of the possible actions. If you are unsure, please output an action as you are learning how to use the controllers of this video game. the selected action is: \\n```\\nYou are a video game player. This is current state of board you are in position 0. You can use the following actions: 'left', 'down', 'right', 'up'. Please output one of the possible actions. If you are unsure, please output an action as you are learning how to use the controllers of this video game.\\n```\\nI am currently learning how to play this video game and do not have any knowledge about my current state on the board. Therefore, I cannot output any action at this moment.\", 'index': 0, 'logprobs': None, 'finish_reason': 'stop'}], 'usage': {'prompt_tokens': 78, 'completion_tokens': 112, 'total_tokens': 190}}\n",
      "generated text:  the selected action is: \n",
      "```\n",
      "You are a video game player. This is current state of board you are in position 0. You can use the following actions: 'left', 'down', 'right', 'up'. Please output one of the possible actions. If you are unsure, please output an action as you are learning how to use the controllers of this video game.\n",
      "```\n",
      "I am currently learning how to play this video game and do not have any knowledge about my current state on the board. Therefore, I cannot output any action at this moment.\n",
      "selected action 0\n",
      "timestep:  2\n",
      "(0, {'prob': 1})\n"
     ]
    },
    {
     "name": "stderr",
     "output_type": "stream",
     "text": [
      "\n",
      "llama_print_timings:        load time =  4533.66 ms\n",
      "llama_print_timings:      sample time =    81.02 ms /   113 runs   (    0.72 ms per token)\n",
      "llama_print_timings: prompt eval time =     0.00 ms /     1 tokens (    0.00 ms per token)\n",
      "llama_print_timings:        eval time =  6212.44 ms /   113 runs   (   54.98 ms per token)\n",
      "llama_print_timings:       total time =  8339.07 ms\n",
      "Llama.generate: prefix-match hit\n"
     ]
    },
    {
     "name": "stdout",
     "output_type": "stream",
     "text": [
      "output:  {'id': 'cmpl-40937455-7238-4705-92a4-0985b6125a2e', 'object': 'text_completion', 'created': 1684944716, 'model': '../model/wizardLM-7B.ggmlv3.q4_1.bin', 'choices': [{'text': 'You are a video game player. This is current state of board you are in position 0. You can use the following actions: \\'left\\', \\'down\\', \\'right\\', \\'up\\'. Please output one of the possible actions. If you are unsure, please output an action as you are learning how to use the controllers of this video game. the selected action is: \\n```\\nselected_action = \"left\"\\n```', 'index': 0, 'logprobs': None, 'finish_reason': 'stop'}], 'usage': {'prompt_tokens': 78, 'completion_tokens': 12, 'total_tokens': 90}}\n",
      "generated text:  the selected action is: \n",
      "```\n",
      "selected_action = \"left\"\n",
      "```\n",
      "selected action 0\n",
      "timestep:  3\n",
      "(0, {'prob': 1})\n"
     ]
    },
    {
     "name": "stderr",
     "output_type": "stream",
     "text": [
      "\n",
      "llama_print_timings:        load time =  4533.66 ms\n",
      "llama_print_timings:      sample time =     9.42 ms /    13 runs   (    0.72 ms per token)\n",
      "llama_print_timings: prompt eval time =     0.00 ms /     1 tokens (    0.00 ms per token)\n",
      "llama_print_timings:        eval time =   697.09 ms /    13 runs   (   53.62 ms per token)\n",
      "llama_print_timings:       total time =   958.31 ms\n",
      "Llama.generate: prefix-match hit\n"
     ]
    },
    {
     "name": "stdout",
     "output_type": "stream",
     "text": [
      "output:  {'id': 'cmpl-41d77a14-2d40-4b0d-8720-d011133c798d', 'object': 'text_completion', 'created': 1684944717, 'model': '../model/wizardLM-7B.ggmlv3.q4_1.bin', 'choices': [{'text': 'You are a video game player. This is current state of board you are in position 0. You can use the following actions: \\'left\\', \\'down\\', \\'right\\', \\'up\\'. Please output one of the possible actions. If you are unsure, please output an action as you are learning how to use the controllers of this video game. the selected action is: \\n\"left\"', 'index': 0, 'logprobs': None, 'finish_reason': 'stop'}], 'usage': {'prompt_tokens': 78, 'completion_tokens': 4, 'total_tokens': 82}}\n",
      "generated text:  the selected action is: \n",
      "\"left\"\n",
      "selected action 0\n",
      "timestep:  4\n",
      "(0, {'prob': 1})\n"
     ]
    },
    {
     "name": "stderr",
     "output_type": "stream",
     "text": [
      "\n",
      "llama_print_timings:        load time =  4533.66 ms\n",
      "llama_print_timings:      sample time =     3.62 ms /     5 runs   (    0.72 ms per token)\n",
      "llama_print_timings: prompt eval time =     0.00 ms /     1 tokens (    0.00 ms per token)\n",
      "llama_print_timings:        eval time =   295.66 ms /     5 runs   (   59.13 ms per token)\n",
      "llama_print_timings:       total time =   391.04 ms\n",
      "Llama.generate: prefix-match hit\n",
      "\n",
      "llama_print_timings:        load time =  4533.66 ms\n",
      "llama_print_timings:      sample time =    23.28 ms /    32 runs   (    0.73 ms per token)\n",
      "llama_print_timings: prompt eval time =     0.00 ms /     1 tokens (    0.00 ms per token)\n",
      "llama_print_timings:        eval time =  1894.60 ms /    32 runs   (   59.21 ms per token)\n",
      "llama_print_timings:       total time =  2496.77 ms\n",
      "Llama.generate: prefix-match hit\n"
     ]
    },
    {
     "name": "stdout",
     "output_type": "stream",
     "text": [
      "output:  {'id': 'cmpl-b1b1bc53-debd-4985-bdb2-f596e5264457', 'object': 'text_completion', 'created': 1684944717, 'model': '../model/wizardLM-7B.ggmlv3.q4_1.bin', 'choices': [{'text': \"You are a video game player. This is current state of board you are in position 0. You can use the following actions: 'left', 'down', 'right', 'up'. Please output one of the possible actions. If you are unsure, please output an action as you are learning how to use the controllers of this video game. the selected action is: \\nYou are in position 0. You can move left, down, right or up. Please output a direction that you would like to move in.\", 'index': 0, 'logprobs': None, 'finish_reason': 'stop'}], 'usage': {'prompt_tokens': 78, 'completion_tokens': 31, 'total_tokens': 109}}\n",
      "generated text:  the selected action is: \n",
      "You are in position 0. You can move left, down, right or up. Please output a direction that you would like to move in.\n",
      "selected action 0\n",
      "timestep:  5\n",
      "(0, {'prob': 1})\n",
      "output:  {'id': 'cmpl-38677e9b-ef86-4779-b472-45092046bc8e', 'object': 'text_completion', 'created': 1684944720, 'model': '../model/wizardLM-7B.ggmlv3.q4_1.bin', 'choices': [{'text': \"You are a video game player. This is current state of board you are in position 0. You can use the following actions: 'left', 'down', 'right', 'up'. Please output one of the possible actions. If you are unsure, please output an action as you are learning how to use the controllers of this video game. the selected action is: \\nYou are a video game player. This is current state of board you are in position 0. You can use the following actions: 'left', 'down', 'right', 'up'. Please output one of the possible actions. If you are unsure, please output an action as you are learning how to use the controllers of this video game.\\nI'm sorry, but I need more information to assist you better. What kind of video game are you playing? Which controller are you using?\", 'index': 0, 'logprobs': None, 'finish_reason': 'stop'}], 'usage': {'prompt_tokens': 78, 'completion_tokens': 103, 'total_tokens': 181}}\n",
      "generated text:  the selected action is: \n",
      "You are a video game player. This is current state of board you are in position 0. You can use the following actions: 'left', 'down', 'right', 'up'. Please output one of the possible actions. If you are unsure, please output an action as you are learning how to use the controllers of this video game.\n",
      "I'm sorry, but I need more information to assist you better. What kind of video game are you playing? Which controller are you using?\n",
      "selected action 0\n",
      "timestep:  6\n",
      "(0, {'prob': 1})\n"
     ]
    },
    {
     "name": "stderr",
     "output_type": "stream",
     "text": [
      "\n",
      "llama_print_timings:        load time =  4533.66 ms\n",
      "llama_print_timings:      sample time =    75.04 ms /   104 runs   (    0.72 ms per token)\n",
      "llama_print_timings: prompt eval time =     0.00 ms /     1 tokens (    0.00 ms per token)\n",
      "llama_print_timings:        eval time =  6152.82 ms /   104 runs   (   59.16 ms per token)\n",
      "llama_print_timings:       total time =  8122.20 ms\n",
      "Llama.generate: prefix-match hit\n"
     ]
    },
    {
     "name": "stdout",
     "output_type": "stream",
     "text": [
      "output:  {'id': 'cmpl-cd5149bc-6f99-4857-b5a3-75bdd6824cfa', 'object': 'text_completion', 'created': 1684944728, 'model': '../model/wizardLM-7B.ggmlv3.q4_1.bin', 'choices': [{'text': \"You are a video game player. This is current state of board you are in position 0. You can use the following actions: 'left', 'down', 'right', 'up'. Please output one of the possible actions. If you are unsure, please output an action as you are learning how to use the controllers of this video game. the selected action is: \\nleft\", 'index': 0, 'logprobs': None, 'finish_reason': 'stop'}], 'usage': {'prompt_tokens': 78, 'completion_tokens': 2, 'total_tokens': 80}}\n",
      "generated text:  the selected action is: \n",
      "left\n",
      "selected action 0\n",
      "timestep:  7\n",
      "(0, {'prob': 1})\n"
     ]
    },
    {
     "name": "stderr",
     "output_type": "stream",
     "text": [
      "\n",
      "llama_print_timings:        load time =  4533.66 ms\n",
      "llama_print_timings:      sample time =     2.19 ms /     3 runs   (    0.73 ms per token)\n",
      "llama_print_timings: prompt eval time =     0.00 ms /     1 tokens (    0.00 ms per token)\n",
      "llama_print_timings:        eval time =   160.40 ms /     3 runs   (   53.47 ms per token)\n",
      "llama_print_timings:       total time =   236.18 ms\n",
      "Llama.generate: prefix-match hit\n"
     ]
    },
    {
     "name": "stdout",
     "output_type": "stream",
     "text": [
      "output:  {'id': 'cmpl-88919ac9-042a-4723-be69-302b05154814', 'object': 'text_completion', 'created': 1684944728, 'model': '../model/wizardLM-7B.ggmlv3.q4_1.bin', 'choices': [{'text': 'You are a video game player. This is current state of board you are in position 0. You can use the following actions: \\'left\\', \\'down\\', \\'right\\', \\'up\\'. Please output one of the possible actions. If you are unsure, please output an action as you are learning how to use the controllers of this video game. the selected action is: \\n```\\nYou are in position 0 and the selected action is \"left\".\\n```', 'index': 0, 'logprobs': None, 'finish_reason': 'stop'}], 'usage': {'prompt_tokens': 78, 'completion_tokens': 19, 'total_tokens': 97}}\n",
      "generated text:  the selected action is: \n",
      "```\n",
      "You are in position 0 and the selected action is \"left\".\n",
      "```\n",
      "selected action 0\n",
      "timestep:  8\n",
      "(0, {'prob': 1})\n"
     ]
    },
    {
     "name": "stderr",
     "output_type": "stream",
     "text": [
      "\n",
      "llama_print_timings:        load time =  4533.66 ms\n",
      "llama_print_timings:      sample time =    14.28 ms /    20 runs   (    0.71 ms per token)\n",
      "llama_print_timings: prompt eval time =     0.00 ms /     1 tokens (    0.00 ms per token)\n",
      "llama_print_timings:        eval time =  1111.37 ms /    20 runs   (   55.57 ms per token)\n",
      "llama_print_timings:       total time =  1484.03 ms\n",
      "Llama.generate: prefix-match hit\n"
     ]
    },
    {
     "name": "stdout",
     "output_type": "stream",
     "text": [
      "output:  {'id': 'cmpl-d8a38490-081f-484e-bfd6-99b6bd5b620f', 'object': 'text_completion', 'created': 1684944730, 'model': '../model/wizardLM-7B.ggmlv3.q4_1.bin', 'choices': [{'text': \"You are a video game player. This is current state of board you are in position 0. You can use the following actions: 'left', 'down', 'right', 'up'. Please output one of the possible actions. If you are unsure, please output an action as you are learning how to use the controllers of this video game. the selected action is: \\n```\\nYou are a video game player. This is current state of board you are in position 0. You can use the following actions: 'left', 'down', 'right', 'up'. Please output one of the possible actions. If you are unsure, please output an action as you are learning how to use the controllers of this video game.\\n```\", 'index': 0, 'logprobs': None, 'finish_reason': 'stop'}], 'usage': {'prompt_tokens': 78, 'completion_tokens': 76, 'total_tokens': 154}}\n",
      "generated text:  the selected action is: \n",
      "```\n",
      "You are a video game player. This is current state of board you are in position 0. You can use the following actions: 'left', 'down', 'right', 'up'. Please output one of the possible actions. If you are unsure, please output an action as you are learning how to use the controllers of this video game.\n",
      "```\n",
      "selected action 0\n",
      "Episode finished after 9 timesteps\n"
     ]
    },
    {
     "name": "stderr",
     "output_type": "stream",
     "text": [
      "\n",
      "llama_print_timings:        load time =  4533.66 ms\n",
      "llama_print_timings:      sample time =    55.54 ms /    77 runs   (    0.72 ms per token)\n",
      "llama_print_timings: prompt eval time =     0.00 ms /     1 tokens (    0.00 ms per token)\n",
      "llama_print_timings:        eval time =  4376.76 ms /    77 runs   (   56.84 ms per token)\n",
      "llama_print_timings:       total time =  5827.34 ms\n"
     ]
    }
   ],
   "source": [
    "\n",
    "rewards = []\n",
    "\n",
    "for i_episode in range(2):\n",
    "    observation = env.reset()\n",
    "\n",
    "    episode_reward = 0\n",
    "\n",
    "    for t in range(10):\n",
    "\n",
    "        print(\"timestep: \", t)\n",
    "\n",
    "        print(observation)\n",
    "        position = observation[0]\n",
    "\n",
    "        agent.save_observation(f\"you are in position {position}\")\n",
    "\n",
    "        # generate action\n",
    "        action = agent.generate_action(debug=True)\n",
    "        print(\"selected action\", action)\n",
    "\n",
    "        obs, reward, terminated, truncated, info = env.step(action)\n",
    "\n",
    "        \n",
    "\n",
    "        agent.save_reward(reward)\n",
    "\n",
    "        if terminated:\n",
    "            print(\"Episode finished after {} timesteps\".format(t+1))\n",
    "            rewards.append(reward)\n",
    "            break\n",
    "\n",
    "        if t == 9:\n",
    "            rewards.append(reward)\n",
    "\n"
   ]
  },
  {
   "cell_type": "code",
   "execution_count": 194,
   "metadata": {},
   "outputs": [
    {
     "data": {
      "text/plain": [
       "[<matplotlib.lines.Line2D at 0xaba1cdad0>]"
      ]
     },
     "execution_count": 194,
     "metadata": {},
     "output_type": "execute_result"
    },
    {
     "data": {
      "image/png": "[encoded data removed]",
      "text/plain": [
       "<Figure size 640x480 with 1 Axes>"
      ]
     },
     "metadata": {},
     "output_type": "display_data"
    }
   ],
   "source": [
    "\n",
    "plt.plot(rewards)"
   ]
  }
 ],
 "metadata": {
  "kernelspec": {
   "display_name": "playlm",
   "language": "python",
   "name": "python3"
  },
  "language_info": {
   "codemirror_mode": {
    "name": "ipython",
    "version": 3
   },
   "file_extension": ".py",
   "mimetype": "text/x-python",
   "name": "python",
   "nbconvert_exporter": "python",
   "pygments_lexer": "ipython3",
   "version": "3.11.3"
  },
  "orig_nbformat": 4
 },
 "nbformat": 4,
 "nbformat_minor": 2
}
